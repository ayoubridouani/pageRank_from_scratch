{
 "cells": [
  {
   "cell_type": "code",
   "execution_count": 1,
   "metadata": {},
   "outputs": [],
   "source": [
    "from prettytable import PrettyTable\n",
    "import xml.etree.ElementTree as ET\n",
    "import matplotlib.pyplot as plt\n",
    "import networkx as nx\n",
    "import numpy as np"
   ]
  },
  {
   "cell_type": "code",
   "execution_count": 2,
   "metadata": {
    "collapsed": true
   },
   "outputs": [],
   "source": [
    "damping_factor = 0.85\n",
    "epsilon = 0.000001\n",
    "input_file_path = \"input.xml\" \n",
    "\n",
    "root = ET.parse(input_file_path).getroot()\n",
    "\n",
    "# nodes\n",
    "nodes = root.findall(\"node\")\n",
    "nodes_items = dict()\n",
    "number_of_nodes = len(nodes)\n",
    "\n",
    "# edges\n",
    "edges = root.findall(\"edge\")\n",
    "edges_items = dict()\n",
    "\n",
    "for tag,i in zip(nodes,range(number_of_nodes)):\n",
    "    nodes_items[tag.get(\"id\")] = i\n",
    "    edges_items[tag.get(\"id\")] = list()\n",
    "    \n",
    "for tag in edges:\n",
    "    edges_items[tag.get(\"source\")].append(tag.get(\"target\"))\n",
    "\n",
    "T = np.zeros((len(nodes_items),len(nodes_items)),dtype=float)\n",
    "D = np.zeros((len(nodes_items),len(nodes_items)),dtype=float)\n",
    "R = np.full(number_of_nodes, 1/number_of_nodes)\n",
    "S = np.zeros(len(nodes_items),dtype=float)"
   ]
  },
  {
   "cell_type": "code",
   "execution_count": 3,
   "metadata": {},
   "outputs": [
    {
     "name": "stderr",
     "output_type": "stream",
     "text": [
      "C:\\Program Files (x86)\\Microsoft Visual Studio\\Shared\\Anaconda3_64\\lib\\site-packages\\networkx\\drawing\\nx_pylab.py:126: MatplotlibDeprecationWarning: pyplot.hold is deprecated.\n",
      "    Future behavior will be consistent with the long-time default:\n",
      "    plot commands add elements without first clearing the\n",
      "    Axes and/or Figure.\n",
      "  b = plt.ishold()\n",
      "C:\\Program Files (x86)\\Microsoft Visual Studio\\Shared\\Anaconda3_64\\lib\\site-packages\\networkx\\drawing\\nx_pylab.py:138: MatplotlibDeprecationWarning: pyplot.hold is deprecated.\n",
      "    Future behavior will be consistent with the long-time default:\n",
      "    plot commands add elements without first clearing the\n",
      "    Axes and/or Figure.\n",
      "  plt.hold(b)\n",
      "C:\\Program Files (x86)\\Microsoft Visual Studio\\Shared\\Anaconda3_64\\lib\\site-packages\\matplotlib\\__init__.py:917: UserWarning: axes.hold is deprecated. Please remove it from your matplotlibrc and/or style files.\n",
      "  warnings.warn(self.msg_depr_set % key)\n",
      "C:\\Program Files (x86)\\Microsoft Visual Studio\\Shared\\Anaconda3_64\\lib\\site-packages\\matplotlib\\rcsetup.py:152: UserWarning: axes.hold is deprecated, will be removed in 3.0\n",
      "  warnings.warn(\"axes.hold is deprecated, will be removed in 3.0\")\n"
     ]
    },
    {
     "data": {
      "image/png": "[encoded data removed]",
      "text/plain": [
       "<matplotlib.figure.Figure at 0x20774975278>"
      ]
     },
     "metadata": {},
     "output_type": "display_data"
    }
   ],
   "source": [
    "# display\n",
    "G=nx.DiGraph()\n",
    "G.add_nodes_from(list(nodes_items.keys()))\n",
    "edges_list = list()\n",
    "\n",
    "for node_item in nodes_items:\n",
    "    for edge_item in edges_items[node_item]:\n",
    "        edges_list.append((node_item,edge_item))\n",
    "\n",
    "G.add_edges_from(edges_list)\n",
    "nx.draw(G, with_labels = True)\n",
    "plt.show()"
   ]
  },
  {
   "cell_type": "code",
   "execution_count": 4,
   "metadata": {
    "collapsed": true
   },
   "outputs": [],
   "source": [
    "# Transportation\n",
    "for i,node_item in zip(range(number_of_nodes),nodes_items):\n",
    "    for edge_item in edges_items[node_item]:\n",
    "        T[i][list(nodes_items.keys()).index(edge_item)] = damping_factor\n",
    "    if nodes_items[node_item] != 0:\n",
    "        T[i] /= len(edges_items[node_item])"
   ]
  },
  {
   "cell_type": "code",
   "execution_count": 5,
   "metadata": {
    "collapsed": true
   },
   "outputs": [],
   "source": [
    "# Teleportation\n",
    "for i,node_item in zip(range(number_of_nodes),nodes_items):\n",
    "    if len(edges_items[node_item]) == 0:\n",
    "        D[i] = 1/number_of_nodes\n",
    "    else:\n",
    "        D[i] = (1-damping_factor)/number_of_nodes"
   ]
  },
  {
   "cell_type": "code",
   "execution_count": 6,
   "metadata": {
    "collapsed": true,
    "scrolled": false
   },
   "outputs": [],
   "source": [
    "# Final probabilities for the random surfer      \n",
    "P = T + D"
   ]
  },
  {
   "cell_type": "code",
   "execution_count": 7,
   "metadata": {},
   "outputs": [
    {
     "name": "stdout",
     "output_type": "stream",
     "text": [
      "+---------+---------+----------+---------+---------+---------+---------+---------+---------+---------+---------+---------+\n",
      "|         |    A    |    B     |    C    |    D    |    E    |    F    |    G    |    H    |    I    |    L    |    M    |\n",
      "+---------+---------+----------+---------+---------+---------+---------+---------+---------+---------+---------+---------+\n",
      "|  step 0 |  0.0909 |  0.0909  |  0.0909 |  0.0909 |  0.0909 |  0.0909 |  0.0909 |  0.0909 |  0.0909 |  0.0909 |  0.0909 |\n",
      "|  step 1 |  0.0593 |  0.3169  |  0.0979 |  0.0464 |  0.3298 |  0.0464 |  0.0207 |  0.0207 |  0.0207 |  0.0207 |  0.0207 |\n",
      "|  step 2 |  0.0379 |  0.2607  |  0.2876 |  0.1116 |  0.0994 |  0.1116 |  0.0182 |  0.0182 |  0.0182 |  0.0182 |  0.0182 |\n",
      "|  step 3 |  0.064  |  0.4073  |  0.2382 |  0.0447 |  0.1182 |  0.0447 |  0.0166 |  0.0166 |  0.0166 |  0.0166 |  0.0166 |\n",
      "|  step 4 |  0.0376 |  0.3137  |  0.3648 |  0.0521 |  0.0869 |  0.0521 |  0.0186 |  0.0186 |  0.0186 |  0.0186 |  0.0186 |\n",
      "|  step 5 |  0.0387 |  0.4192  |  0.2832 |  0.0412 |  0.094  |  0.0412 |  0.0165 |  0.0165 |  0.0165 |  0.0165 |  0.0165 |\n",
      "|  step 6 |  0.0341 |   0.34   |  0.3729 |  0.0432 |  0.0833 |  0.0432 |  0.0166 |  0.0166 |  0.0166 |  0.0166 |  0.0166 |\n",
      "|  step 7 |  0.0347 |  0.4148  |  0.3053 |  0.0399 |  0.0841 |  0.0399 |  0.0163 |  0.0163 |  0.0163 |  0.0163 |  0.0163 |\n",
      "|  step 8 |  0.0333 |  0.3543  |  0.3689 |  0.0401 |  0.0817 |  0.0401 |  0.0163 |  0.0163 |  0.0163 |  0.0163 |  0.0163 |\n",
      "|  step 9 |  0.0333 |  0.4079  |  0.3173 |  0.0393 |  0.0818 |  0.0393 |  0.0162 |  0.0162 |  0.0162 |  0.0162 |  0.0162 |\n",
      "| step 10 |  0.0329 |  0.3632  |  0.3629 |  0.0394 |  0.0811 |  0.0394 |  0.0162 |  0.0162 |  0.0162 |  0.0162 |  0.0162 |\n",
      "| step 11 |  0.0329 |  0.4018  |  0.3249 |  0.0392 |  0.0811 |  0.0392 |  0.0162 |  0.0162 |  0.0162 |  0.0162 |  0.0162 |\n",
      "| step 12 |  0.0328 |  0.3693  |  0.3577 |  0.0392 |  0.081  |  0.0392 |  0.0162 |  0.0162 |  0.0162 |  0.0162 |  0.0162 |\n",
      "| step 13 |  0.0328 |  0.3971  |  0.3301 |  0.0391 |  0.081  |  0.0391 |  0.0162 |  0.0162 |  0.0162 |  0.0162 |  0.0162 |\n",
      "| step 14 |  0.0328 |  0.3735  |  0.3537 |  0.0391 |  0.0809 |  0.0391 |  0.0162 |  0.0162 |  0.0162 |  0.0162 |  0.0162 |\n",
      "| step 15 |  0.0328 |  0.3936  |  0.3337 |  0.0391 |  0.0809 |  0.0391 |  0.0162 |  0.0162 |  0.0162 |  0.0162 |  0.0162 |\n",
      "| step 16 |  0.0328 |  0.3766  |  0.3507 |  0.0391 |  0.0809 |  0.0391 |  0.0162 |  0.0162 |  0.0162 |  0.0162 |  0.0162 |\n",
      "| step 17 |  0.0328 |  0.391   |  0.3363 |  0.0391 |  0.0809 |  0.0391 |  0.0162 |  0.0162 |  0.0162 |  0.0162 |  0.0162 |\n",
      "| step 18 |  0.0328 |  0.3787  |  0.3486 |  0.0391 |  0.0809 |  0.0391 |  0.0162 |  0.0162 |  0.0162 |  0.0162 |  0.0162 |\n",
      "| step 19 |  0.0328 |  0.3892  |  0.3381 |  0.0391 |  0.0809 |  0.0391 |  0.0162 |  0.0162 |  0.0162 |  0.0162 |  0.0162 |\n",
      "| step 20 |  0.0328 |  0.3803  |  0.347  |  0.0391 |  0.0809 |  0.0391 |  0.0162 |  0.0162 |  0.0162 |  0.0162 |  0.0162 |\n",
      "| step 21 |  0.0328 |  0.3879  |  0.3394 |  0.0391 |  0.0809 |  0.0391 |  0.0162 |  0.0162 |  0.0162 |  0.0162 |  0.0162 |\n",
      "| step 22 |  0.0328 |  0.3814  |  0.3459 |  0.0391 |  0.0809 |  0.0391 |  0.0162 |  0.0162 |  0.0162 |  0.0162 |  0.0162 |\n",
      "| step 23 |  0.0328 |  0.3869  |  0.3404 |  0.0391 |  0.0809 |  0.0391 |  0.0162 |  0.0162 |  0.0162 |  0.0162 |  0.0162 |\n",
      "| step 24 |  0.0328 |  0.3823  |  0.345  |  0.0391 |  0.0809 |  0.0391 |  0.0162 |  0.0162 |  0.0162 |  0.0162 |  0.0162 |\n",
      "| step 25 |  0.0328 |  0.3862  |  0.3411 |  0.0391 |  0.0809 |  0.0391 |  0.0162 |  0.0162 |  0.0162 |  0.0162 |  0.0162 |\n",
      "| step 26 |  0.0328 |  0.3829  |  0.3445 |  0.0391 |  0.0809 |  0.0391 |  0.0162 |  0.0162 |  0.0162 |  0.0162 |  0.0162 |\n",
      "| step 27 |  0.0328 |  0.3857  |  0.3416 |  0.0391 |  0.0809 |  0.0391 |  0.0162 |  0.0162 |  0.0162 |  0.0162 |  0.0162 |\n",
      "| step 28 |  0.0328 |  0.3833  |  0.344  |  0.0391 |  0.0809 |  0.0391 |  0.0162 |  0.0162 |  0.0162 |  0.0162 |  0.0162 |\n",
      "| step 29 |  0.0328 |  0.3853  |  0.342  |  0.0391 |  0.0809 |  0.0391 |  0.0162 |  0.0162 |  0.0162 |  0.0162 |  0.0162 |\n",
      "| step 30 |  0.0328 |  0.3836  |  0.3437 |  0.0391 |  0.0809 |  0.0391 |  0.0162 |  0.0162 |  0.0162 |  0.0162 |  0.0162 |\n",
      "| step 31 |  0.0328 |  0.3851  |  0.3422 |  0.0391 |  0.0809 |  0.0391 |  0.0162 |  0.0162 |  0.0162 |  0.0162 |  0.0162 |\n",
      "| step 32 |  0.0328 |  0.3838  |  0.3435 |  0.0391 |  0.0809 |  0.0391 |  0.0162 |  0.0162 |  0.0162 |  0.0162 |  0.0162 |\n",
      "| step 33 |  0.0328 |  0.3849  |  0.3424 |  0.0391 |  0.0809 |  0.0391 |  0.0162 |  0.0162 |  0.0162 |  0.0162 |  0.0162 |\n",
      "| step 34 |  0.0328 |  0.384   |  0.3433 |  0.0391 |  0.0809 |  0.0391 |  0.0162 |  0.0162 |  0.0162 |  0.0162 |  0.0162 |\n",
      "| step 35 |  0.0328 |  0.3848  |  0.3426 |  0.0391 |  0.0809 |  0.0391 |  0.0162 |  0.0162 |  0.0162 |  0.0162 |  0.0162 |\n",
      "| step 36 |  0.0328 |  0.3841  |  0.3432 |  0.0391 |  0.0809 |  0.0391 |  0.0162 |  0.0162 |  0.0162 |  0.0162 |  0.0162 |\n",
      "| step 37 |  0.0328 |  0.3847  |  0.3427 |  0.0391 |  0.0809 |  0.0391 |  0.0162 |  0.0162 |  0.0162 |  0.0162 |  0.0162 |\n",
      "| step 38 |  0.0328 |  0.3842  |  0.3431 |  0.0391 |  0.0809 |  0.0391 |  0.0162 |  0.0162 |  0.0162 |  0.0162 |  0.0162 |\n",
      "| step 39 |  0.0328 |  0.3846  |  0.3427 |  0.0391 |  0.0809 |  0.0391 |  0.0162 |  0.0162 |  0.0162 |  0.0162 |  0.0162 |\n",
      "| step 40 |  0.0328 |  0.3842  |  0.3431 |  0.0391 |  0.0809 |  0.0391 |  0.0162 |  0.0162 |  0.0162 |  0.0162 |  0.0162 |\n",
      "| step 41 |  0.0328 |  0.3845  |  0.3428 |  0.0391 |  0.0809 |  0.0391 |  0.0162 |  0.0162 |  0.0162 |  0.0162 |  0.0162 |\n",
      "| step 42 |  0.0328 |  0.3843  |  0.343  |  0.0391 |  0.0809 |  0.0391 |  0.0162 |  0.0162 |  0.0162 |  0.0162 |  0.0162 |\n",
      "| step 43 |  0.0328 |  0.3845  |  0.3428 |  0.0391 |  0.0809 |  0.0391 |  0.0162 |  0.0162 |  0.0162 |  0.0162 |  0.0162 |\n",
      "| step 44 |  0.0328 |  0.3843  |  0.343  |  0.0391 |  0.0809 |  0.0391 |  0.0162 |  0.0162 |  0.0162 |  0.0162 |  0.0162 |\n",
      "| step 45 |  0.0328 |  0.3845  |  0.3428 |  0.0391 |  0.0809 |  0.0391 |  0.0162 |  0.0162 |  0.0162 |  0.0162 |  0.0162 |\n",
      "| step 46 |  0.0328 |  0.3843  |  0.343  |  0.0391 |  0.0809 |  0.0391 |  0.0162 |  0.0162 |  0.0162 |  0.0162 |  0.0162 |\n",
      "| step 47 |  0.0328 |  0.3845  |  0.3429 |  0.0391 |  0.0809 |  0.0391 |  0.0162 |  0.0162 |  0.0162 |  0.0162 |  0.0162 |\n",
      "| step 48 |  0.0328 |  0.3844  |  0.343  |  0.0391 |  0.0809 |  0.0391 |  0.0162 |  0.0162 |  0.0162 |  0.0162 |  0.0162 |\n",
      "| step 49 |  0.0328 |  0.3844  |  0.3429 |  0.0391 |  0.0809 |  0.0391 |  0.0162 |  0.0162 |  0.0162 |  0.0162 |  0.0162 |\n",
      "| step 50 |  0.0328 |  0.3844  |  0.3429 |  0.0391 |  0.0809 |  0.0391 |  0.0162 |  0.0162 |  0.0162 |  0.0162 |  0.0162 |\n",
      "| step 51 |  0.0328 |  0.3844  |  0.3429 |  0.0391 |  0.0809 |  0.0391 |  0.0162 |  0.0162 |  0.0162 |  0.0162 |  0.0162 |\n",
      "| step 52 |  0.0328 |  0.3844  |  0.3429 |  0.0391 |  0.0809 |  0.0391 |  0.0162 |  0.0162 |  0.0162 |  0.0162 |  0.0162 |\n",
      "| step 53 |  0.0328 |  0.3844  |  0.3429 |  0.0391 |  0.0809 |  0.0391 |  0.0162 |  0.0162 |  0.0162 |  0.0162 |  0.0162 |\n",
      "| step 54 |  0.0328 |  0.3844  |  0.3429 |  0.0391 |  0.0809 |  0.0391 |  0.0162 |  0.0162 |  0.0162 |  0.0162 |  0.0162 |\n",
      "| step 55 |  0.0328 |  0.3844  |  0.3429 |  0.0391 |  0.0809 |  0.0391 |  0.0162 |  0.0162 |  0.0162 |  0.0162 |  0.0162 |\n",
      "| step 56 |  0.0328 |  0.3844  |  0.3429 |  0.0391 |  0.0809 |  0.0391 |  0.0162 |  0.0162 |  0.0162 |  0.0162 |  0.0162 |\n",
      "| step 57 |  0.0328 |  0.3844  |  0.3429 |  0.0391 |  0.0809 |  0.0391 |  0.0162 |  0.0162 |  0.0162 |  0.0162 |  0.0162 |\n",
      "| step 58 |  0.0328 |  0.3844  |  0.3429 |  0.0391 |  0.0809 |  0.0391 |  0.0162 |  0.0162 |  0.0162 |  0.0162 |  0.0162 |\n",
      "| step 59 |  0.0328 |  0.3844  |  0.3429 |  0.0391 |  0.0809 |  0.0391 |  0.0162 |  0.0162 |  0.0162 |  0.0162 |  0.0162 |\n",
      "| step 60 |  0.0328 |  0.3844  |  0.3429 |  0.0391 |  0.0809 |  0.0391 |  0.0162 |  0.0162 |  0.0162 |  0.0162 |  0.0162 |\n",
      "| step 61 |  0.0328 |  0.3844  |  0.3429 |  0.0391 |  0.0809 |  0.0391 |  0.0162 |  0.0162 |  0.0162 |  0.0162 |  0.0162 |\n",
      "| step 62 |  0.0328 |  0.3844  |  0.3429 |  0.0391 |  0.0809 |  0.0391 |  0.0162 |  0.0162 |  0.0162 |  0.0162 |  0.0162 |\n",
      "| step 63 |  0.0328 |  0.3844  |  0.3429 |  0.0391 |  0.0809 |  0.0391 |  0.0162 |  0.0162 |  0.0162 |  0.0162 |  0.0162 |\n",
      "| step 64 |  0.0328 |  0.3844  |  0.3429 |  0.0391 |  0.0809 |  0.0391 |  0.0162 |  0.0162 |  0.0162 |  0.0162 |  0.0162 |\n",
      "| step 65 |  0.0328 |  0.3844  |  0.3429 |  0.0391 |  0.0809 |  0.0391 |  0.0162 |  0.0162 |  0.0162 |  0.0162 |  0.0162 |\n",
      "| step 66 |  0.0328 |  0.3844  |  0.3429 |  0.0391 |  0.0809 |  0.0391 |  0.0162 |  0.0162 |  0.0162 |  0.0162 |  0.0162 |\n",
      "| step 67 |  0.0328 |  0.3844  |  0.3429 |  0.0391 |  0.0809 |  0.0391 |  0.0162 |  0.0162 |  0.0162 |  0.0162 |  0.0162 |\n",
      "| step 68 |  0.0328 |  0.3844  |  0.3429 |  0.0391 |  0.0809 |  0.0391 |  0.0162 |  0.0162 |  0.0162 |  0.0162 |  0.0162 |\n",
      "| step 69 |  0.0328 |  0.3844  |  0.3429 |  0.0391 |  0.0809 |  0.0391 |  0.0162 |  0.0162 |  0.0162 |  0.0162 |  0.0162 |\n",
      "| step 70 |  0.0328 |  0.3844  |  0.3429 |  0.0391 |  0.0809 |  0.0391 |  0.0162 |  0.0162 |  0.0162 |  0.0162 |  0.0162 |\n",
      "| step 71 |  0.0328 |  0.3844  |  0.3429 |  0.0391 |  0.0809 |  0.0391 |  0.0162 |  0.0162 |  0.0162 |  0.0162 |  0.0162 |\n",
      "| step 72 |  0.0328 |  0.3844  |  0.3429 |  0.0391 |  0.0809 |  0.0391 |  0.0162 |  0.0162 |  0.0162 |  0.0162 |  0.0162 |\n",
      "| step 73 |  0.0328 |  0.3844  |  0.3429 |  0.0391 |  0.0809 |  0.0391 |  0.0162 |  0.0162 |  0.0162 |  0.0162 |  0.0162 |\n",
      "| step 74 |  0.0328 |  0.3844  |  0.3429 |  0.0391 |  0.0809 |  0.0391 |  0.0162 |  0.0162 |  0.0162 |  0.0162 |  0.0162 |\n",
      "| step 75 |  0.0328 |  0.3844  |  0.3429 |  0.0391 |  0.0809 |  0.0391 |  0.0162 |  0.0162 |  0.0162 |  0.0162 |  0.0162 |\n",
      "| step 76 |  0.0328 |  0.3844  |  0.3429 |  0.0391 |  0.0809 |  0.0391 |  0.0162 |  0.0162 |  0.0162 |  0.0162 |  0.0162 |\n",
      "| step 77 |  0.0328 |  0.3844  |  0.3429 |  0.0391 |  0.0809 |  0.0391 |  0.0162 |  0.0162 |  0.0162 |  0.0162 |  0.0162 |\n",
      "| step 78 |  0.0328 |  0.3844  |  0.3429 |  0.0391 |  0.0809 |  0.0391 |  0.0162 |  0.0162 |  0.0162 |  0.0162 |  0.0162 |\n",
      "|  final  | 3.2781% | 38.4401% | 34.291% | 3.9087% | 8.0886% | 3.9087% | 1.6169% | 1.6169% | 1.6169% | 1.6169% | 1.6169% |\n",
      "+---------+---------+----------+---------+---------+---------+---------+---------+---------+---------+---------+---------+\n"
     ]
    }
   ],
   "source": [
    "norm = 1\n",
    "eposh = 0\n",
    "\n",
    "table = PrettyTable()\n",
    "fields = [\"\"]\n",
    "fields.extend(list(nodes_items.keys()))\n",
    "table.field_names = fields\n",
    "\n",
    "while norm > epsilon:\n",
    "    row = [\"step \" + str(eposh)]\n",
    "    row.extend(np.around(R, decimals=4).tolist())\n",
    "    table.add_row(row)\n",
    "\n",
    "    for i in range(number_of_nodes):\n",
    "        S[i] = np.sum(R * P[:,i])\n",
    "        \n",
    "    norm = np.linalg.norm(S - R)\n",
    "    R = S.copy()\n",
    "    eposh += 1\n",
    "\n",
    "final_row = [\"final\"]\n",
    "final_row.extend([str(i) + \"%\" for i in np.around((R*100), decimals=4).tolist()])\n",
    "table.add_row(final_row)\n",
    "print(table)"
   ]
  }
 ],
 "metadata": {
  "kernelspec": {
   "display_name": "Python 3",
   "language": "python",
   "name": "python3"
  },
  "language_info": {
   "codemirror_mode": {
    "name": "ipython",
    "version": 3
   },
   "file_extension": ".py",
   "mimetype": "text/x-python",
   "name": "python",
   "nbconvert_exporter": "python",
   "pygments_lexer": "ipython3",
   "version": "3.7.4"
  }
 },
 "nbformat": 4,
 "nbformat_minor": 2
}
